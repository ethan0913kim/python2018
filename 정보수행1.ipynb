{
 "cells": [
  {
   "cell_type": "code",
   "execution_count": 9,
   "metadata": {},
   "outputs": [
    {
     "name": "stdout",
     "output_type": "stream",
     "text": [
      "2-3+2,3\n"
     ]
    }
   ],
   "source": [
    "import re\n",
    "in_v,r = map(str, input().split(',')) // 전압과 저항 입력\n",
    "class Bat:\n",
    "    def __init__(self,a):\n",
    "          self.val = a \n",
    "class Res:\n",
    "    def __init__(self,b):\n",
    "        self.b = b\n",
    "    def tot_res(self):\n",
    "        str = self.b\n",
    "        items = re.findall('\\(([^)]+)', str) // 괄호안에서 성분 추출    \n",
    "        for i in items:\n",
    "            a = list(int,i.split('//'))\n",
    "            a = int(a[0]*a[1]/(a[0]+a[1]))\n",
    "            \n",
    "        \n",
    "        \n",
    "class Point:\n",
    "    pass\n",
    "in_v = in_v.replace('-','+-')\n",
    "tot_v = sum(list(map(int, inv.split('+'))))\n"
   ]
  },
  {
   "cell_type": "code",
   "execution_count": null,
   "metadata": {},
   "outputs": [],
   "source": []
  }
 ],
 "metadata": {
  "kernelspec": {
   "display_name": "Python 3",
   "language": "python",
   "name": "python3"
  },
  "language_info": {
   "codemirror_mode": {
    "name": "ipython",
    "version": 3
   },
   "file_extension": ".py",
   "mimetype": "text/x-python",
   "name": "python",
   "nbconvert_exporter": "python",
   "pygments_lexer": "ipython3",
   "version": "3.6.8"
  }
 },
 "nbformat": 4,
 "nbformat_minor": 2
}
